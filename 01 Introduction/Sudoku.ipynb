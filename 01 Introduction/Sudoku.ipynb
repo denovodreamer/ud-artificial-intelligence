{
 "cells": [
  {
   "cell_type": "markdown",
   "id": "741e2190-4b68-4b2b-a20b-4f861de79ab3",
   "metadata": {},
   "source": [
    " "
   ]
  },
  {
   "cell_type": "markdown",
   "id": "162c30dc-0fd2-485e-b294-459d81850096",
   "metadata": {},
   "source": [
    " "
   ]
  },
  {
   "cell_type": "markdown",
   "id": "bfd8495d-111b-4099-b20e-7612872717d3",
   "metadata": {},
   "source": [
    " "
   ]
  },
  {
   "cell_type": "markdown",
   "id": "924761cf-adc9-4776-845a-5c22bb28ac1c",
   "metadata": {},
   "source": [
    " "
   ]
  },
  {
   "cell_type": "code",
   "execution_count": 2,
   "id": "a5135268-b796-40c9-9195-510b95004c96",
   "metadata": {},
   "outputs": [],
   "source": [
    "import numpy as np"
   ]
  },
  {
   "cell_type": "markdown",
   "id": "3eaa41b6-5039-4d24-a597-478c9f6d2ae9",
   "metadata": {},
   "source": [
    " "
   ]
  },
  {
   "cell_type": "markdown",
   "id": "95f7cacf-7e39-4286-82f7-c3a53df56beb",
   "metadata": {},
   "source": [
    " "
   ]
  },
  {
   "cell_type": "markdown",
   "id": "106ee8d4-1c94-4097-a8b8-d130d4f9fe80",
   "metadata": {},
   "source": [
    " "
   ]
  },
  {
   "cell_type": "markdown",
   "id": "7207133e-9502-4318-9977-0e398512d8bd",
   "metadata": {},
   "source": [
    "# Preliminary Functions"
   ]
  },
  {
   "cell_type": "markdown",
   "id": "1d0b8fad-c5b7-431c-8a20-3a31381e4e40",
   "metadata": {},
   "source": [
    " "
   ]
  },
  {
   "cell_type": "code",
   "execution_count": 5,
   "id": "fca1eb9f-e861-4352-9e0a-04e46b1ceb6a",
   "metadata": {},
   "outputs": [],
   "source": [
    "solution = \"..3.2.6..9..3.5..1..18.64....81.29..7.......8..67.82....26.95..8..2.3..9..5.1.3..\"\n",
    "\n",
    "rows = 'ABCDEFGHI'\n",
    "cols = '123456789'\n",
    "\n",
    "def cross(a, b):\n",
    "      return [s+t for s in a for t in b]"
   ]
  },
  {
   "cell_type": "markdown",
   "id": "aff1193f-7c54-418f-808d-18ccef2c662b",
   "metadata": {},
   "source": [
    " "
   ]
  },
  {
   "cell_type": "markdown",
   "id": "6e6364c0-30bf-42ce-bb0e-b416204a0ed1",
   "metadata": {},
   "source": [
    " "
   ]
  },
  {
   "cell_type": "markdown",
   "id": "d1addde3-2d25-4df4-98b9-3e5a29361670",
   "metadata": {},
   "source": [
    " "
   ]
  },
  {
   "cell_type": "code",
   "execution_count": 6,
   "id": "138a8eda-c882-4123-9ffc-bcb257432646",
   "metadata": {},
   "outputs": [
    {
     "data": {
      "text/plain": [
       "['A1', 'A2', 'A3', 'A4', 'A5', 'A6', 'A7', 'A8', 'A9', 'B1', 'B2', 'B3']"
      ]
     },
     "execution_count": 6,
     "metadata": {},
     "output_type": "execute_result"
    }
   ],
   "source": [
    "cross(rows, cols)[:12]"
   ]
  },
  {
   "cell_type": "markdown",
   "id": "27dcd863-a46c-4d00-bd57-a1ac4225a4fb",
   "metadata": {},
   "source": [
    " "
   ]
  },
  {
   "cell_type": "code",
   "execution_count": 7,
   "id": "c669da0a-e06f-490a-917e-ad2d9afecad0",
   "metadata": {},
   "outputs": [
    {
     "data": {
      "text/plain": [
       "[['A1', 'A2', 'A3', 'A4', 'A5', 'A6', 'A7', 'A8', 'A9'],\n",
       " ['B1', 'B2', 'B3', 'B4', 'B5', 'B6', 'B7', 'B8', 'B9'],\n",
       " ['C1', 'C2', 'C3', 'C4', 'C5', 'C6', 'C7', 'C8', 'C9'],\n",
       " ['D1', 'D2', 'D3', 'D4', 'D5', 'D6', 'D7', 'D8', 'D9'],\n",
       " ['E1', 'E2', 'E3', 'E4', 'E5', 'E6', 'E7', 'E8', 'E9'],\n",
       " ['F1', 'F2', 'F3', 'F4', 'F5', 'F6', 'F7', 'F8', 'F9'],\n",
       " ['G1', 'G2', 'G3', 'G4', 'G5', 'G6', 'G7', 'G8', 'G9'],\n",
       " ['H1', 'H2', 'H3', 'H4', 'H5', 'H6', 'H7', 'H8', 'H9'],\n",
       " ['I1', 'I2', 'I3', 'I4', 'I5', 'I6', 'I7', 'I8', 'I9']]"
      ]
     },
     "execution_count": 7,
     "metadata": {},
     "output_type": "execute_result"
    }
   ],
   "source": [
    "row_units = [cross(r, cols) for r in rows]\n",
    "row_units"
   ]
  },
  {
   "cell_type": "markdown",
   "id": "a31e4803-ac8f-4f74-8259-826559860ac8",
   "metadata": {},
   "source": [
    " "
   ]
  },
  {
   "cell_type": "markdown",
   "id": "5f929ed4-898e-42e4-bac1-7b14b38c03fd",
   "metadata": {},
   "source": [
    " "
   ]
  },
  {
   "cell_type": "code",
   "execution_count": 8,
   "id": "d53afe5f-e6b8-4183-b045-2b419133b94a",
   "metadata": {},
   "outputs": [
    {
     "data": {
      "text/plain": [
       "['A1', 'A2', 'A3', 'A4', 'A5', 'A6', 'A7', 'A8', 'A9']"
      ]
     },
     "execution_count": 8,
     "metadata": {},
     "output_type": "execute_result"
    }
   ],
   "source": [
    "row_units[0]"
   ]
  },
  {
   "cell_type": "markdown",
   "id": "740242ab-ca2a-44d9-93d5-933662cff70e",
   "metadata": {},
   "source": [
    " "
   ]
  },
  {
   "cell_type": "markdown",
   "id": "43786ad2-e48c-411f-8743-f77aedcbcaa0",
   "metadata": {},
   "source": [
    " "
   ]
  },
  {
   "cell_type": "code",
   "execution_count": 9,
   "id": "64385fff-410c-46d3-a722-e81285d359c1",
   "metadata": {},
   "outputs": [
    {
     "data": {
      "text/plain": [
       "['A1', 'B1', 'C1', 'D1', 'E1', 'F1', 'G1', 'H1', 'I1']"
      ]
     },
     "execution_count": 9,
     "metadata": {},
     "output_type": "execute_result"
    }
   ],
   "source": [
    "column_units = [cross(rows, c) for c in cols]\n",
    "column_units[0]"
   ]
  },
  {
   "cell_type": "markdown",
   "id": "9a42aba4-c27c-497a-81c5-e0532fb1cad4",
   "metadata": {},
   "source": [
    " "
   ]
  },
  {
   "cell_type": "markdown",
   "id": "2a8c818b-3462-4091-8e96-d7fb601bd19f",
   "metadata": {},
   "source": [
    " "
   ]
  },
  {
   "cell_type": "markdown",
   "id": "958450c8-5b05-4c7f-a3d2-cc40439f7833",
   "metadata": {},
   "source": [
    " "
   ]
  },
  {
   "cell_type": "code",
   "execution_count": 11,
   "id": "efec35f4-8f9b-423a-9133-6ba538bb7318",
   "metadata": {},
   "outputs": [
    {
     "data": {
      "text/plain": [
       "[['A1', 'A2', 'A3', 'B1', 'B2', 'B3', 'C1', 'C2', 'C3'],\n",
       " ['A4', 'A5', 'A6', 'B4', 'B5', 'B6', 'C4', 'C5', 'C6'],\n",
       " ['A7', 'A8', 'A9', 'B7', 'B8', 'B9', 'C7', 'C8', 'C9'],\n",
       " ['D1', 'D2', 'D3', 'E1', 'E2', 'E3', 'F1', 'F2', 'F3'],\n",
       " ['D4', 'D5', 'D6', 'E4', 'E5', 'E6', 'F4', 'F5', 'F6'],\n",
       " ['D7', 'D8', 'D9', 'E7', 'E8', 'E9', 'F7', 'F8', 'F9'],\n",
       " ['G1', 'G2', 'G3', 'H1', 'H2', 'H3', 'I1', 'I2', 'I3'],\n",
       " ['G4', 'G5', 'G6', 'H4', 'H5', 'H6', 'I4', 'I5', 'I6'],\n",
       " ['G7', 'G8', 'G9', 'H7', 'H8', 'H9', 'I7', 'I8', 'I9']]"
      ]
     },
     "execution_count": 11,
     "metadata": {},
     "output_type": "execute_result"
    }
   ],
   "source": [
    "square_units = [cross(rs, cs) for rs in ('ABC','DEF','GHI') for cs in ('123','456','789')]\n",
    "square_units"
   ]
  },
  {
   "cell_type": "markdown",
   "id": "20c9e075-1ca9-44aa-8947-4b14586d6bfb",
   "metadata": {},
   "source": [
    " "
   ]
  },
  {
   "cell_type": "markdown",
   "id": "c7ac5e13-54ea-4acf-824c-3b250f565ecf",
   "metadata": {},
   "source": [
    " "
   ]
  },
  {
   "cell_type": "code",
   "execution_count": 9,
   "id": "d4b7e98d-7d93-462e-b720-e75190ca6271",
   "metadata": {},
   "outputs": [
    {
     "data": {
      "text/plain": [
       "[['A1', 'A2', 'A3', 'A4', 'A5', 'A6', 'A7', 'A8', 'A9'],\n",
       " ['B1', 'B2', 'B3', 'B4', 'B5', 'B6', 'B7', 'B8', 'B9'],\n",
       " ['C1', 'C2', 'C3', 'C4', 'C5', 'C6', 'C7', 'C8', 'C9'],\n",
       " ['D1', 'D2', 'D3', 'D4', 'D5', 'D6', 'D7', 'D8', 'D9'],\n",
       " ['E1', 'E2', 'E3', 'E4', 'E5', 'E6', 'E7', 'E8', 'E9'],\n",
       " ['F1', 'F2', 'F3', 'F4', 'F5', 'F6', 'F7', 'F8', 'F9'],\n",
       " ['G1', 'G2', 'G3', 'G4', 'G5', 'G6', 'G7', 'G8', 'G9'],\n",
       " ['H1', 'H2', 'H3', 'H4', 'H5', 'H6', 'H7', 'H8', 'H9'],\n",
       " ['I1', 'I2', 'I3', 'I4', 'I5', 'I6', 'I7', 'I8', 'I9'],\n",
       " ['A1', 'B1', 'C1', 'D1', 'E1', 'F1', 'G1', 'H1', 'I1'],\n",
       " ['A2', 'B2', 'C2', 'D2', 'E2', 'F2', 'G2', 'H2', 'I2'],\n",
       " ['A3', 'B3', 'C3', 'D3', 'E3', 'F3', 'G3', 'H3', 'I3'],\n",
       " ['A4', 'B4', 'C4', 'D4', 'E4', 'F4', 'G4', 'H4', 'I4'],\n",
       " ['A5', 'B5', 'C5', 'D5', 'E5', 'F5', 'G5', 'H5', 'I5'],\n",
       " ['A6', 'B6', 'C6', 'D6', 'E6', 'F6', 'G6', 'H6', 'I6'],\n",
       " ['A7', 'B7', 'C7', 'D7', 'E7', 'F7', 'G7', 'H7', 'I7'],\n",
       " ['A8', 'B8', 'C8', 'D8', 'E8', 'F8', 'G8', 'H8', 'I8'],\n",
       " ['A9', 'B9', 'C9', 'D9', 'E9', 'F9', 'G9', 'H9', 'I9'],\n",
       " ['A1', 'A2', 'A3', 'B1', 'B2', 'B3', 'C1', 'C2', 'C3'],\n",
       " ['A4', 'A5', 'A6', 'B4', 'B5', 'B6', 'C4', 'C5', 'C6'],\n",
       " ['A7', 'A8', 'A9', 'B7', 'B8', 'B9', 'C7', 'C8', 'C9'],\n",
       " ['D1', 'D2', 'D3', 'E1', 'E2', 'E3', 'F1', 'F2', 'F3'],\n",
       " ['D4', 'D5', 'D6', 'E4', 'E5', 'E6', 'F4', 'F5', 'F6'],\n",
       " ['D7', 'D8', 'D9', 'E7', 'E8', 'E9', 'F7', 'F8', 'F9'],\n",
       " ['G1', 'G2', 'G3', 'H1', 'H2', 'H3', 'I1', 'I2', 'I3'],\n",
       " ['G4', 'G5', 'G6', 'H4', 'H5', 'H6', 'I4', 'I5', 'I6'],\n",
       " ['G7', 'G8', 'G9', 'H7', 'H8', 'H9', 'I7', 'I8', 'I9']]"
      ]
     },
     "execution_count": 9,
     "metadata": {},
     "output_type": "execute_result"
    }
   ],
   "source": [
    "unitlist = row_units + column_units + square_units\n",
    "unitlist"
   ]
  },
  {
   "cell_type": "markdown",
   "id": "58fc165b-df16-48cf-851e-cf071f3b60a9",
   "metadata": {},
   "source": [
    " "
   ]
  },
  {
   "cell_type": "markdown",
   "id": "fd486232-629b-4736-aef6-89cf81e365ce",
   "metadata": {},
   "source": [
    " "
   ]
  },
  {
   "cell_type": "markdown",
   "id": "2f7d110d-605d-4b7c-aef1-aeb5e8f87eba",
   "metadata": {},
   "source": [
    " "
   ]
  },
  {
   "cell_type": "markdown",
   "id": "fa7671e9-d920-4a31-bf03-9b78abf09f6b",
   "metadata": {},
   "source": [
    " "
   ]
  },
  {
   "cell_type": "markdown",
   "id": "fc1bc2e6-f788-4bb2-b0c6-fd1f4638508f",
   "metadata": {},
   "source": [
    " "
   ]
  },
  {
   "cell_type": "markdown",
   "id": "65fba0ae-2a62-45c4-8a9b-ce1a60fe3f03",
   "metadata": {},
   "source": [
    " "
   ]
  },
  {
   "cell_type": "markdown",
   "id": "3097eca7-da78-45be-9fc0-b113a107d9d0",
   "metadata": {},
   "source": [
    " "
   ]
  },
  {
   "cell_type": "markdown",
   "id": "02fc78f6-2aac-4746-b5a8-e4be08c5feb4",
   "metadata": {},
   "source": [
    " "
   ]
  },
  {
   "cell_type": "code",
   "execution_count": 8,
   "id": "6ec8b78e-876b-45dc-be3b-64f840709c14",
   "metadata": {},
   "outputs": [
    {
     "ename": "NameError",
     "evalue": "name 'start' is not defined",
     "output_type": "error",
     "traceback": [
      "\u001b[1;31m---------------------------------------------------------------------------\u001b[0m",
      "\u001b[1;31mNameError\u001b[0m                                 Traceback (most recent call last)",
      "Cell \u001b[1;32mIn[8], line 20\u001b[0m\n\u001b[0;32m     16\u001b[0m         \u001b[38;5;28;01mif\u001b[39;00m r \u001b[38;5;129;01min\u001b[39;00m \u001b[38;5;124m'\u001b[39m\u001b[38;5;124mCF\u001b[39m\u001b[38;5;124m'\u001b[39m: \u001b[38;5;28mprint\u001b[39m(line)\n\u001b[0;32m     17\u001b[0m     \u001b[38;5;28;01mreturn\u001b[39;00m\n\u001b[1;32m---> 20\u001b[0m display(convert_grid(\u001b[43mstart\u001b[49m))\n",
      "\u001b[1;31mNameError\u001b[0m: name 'start' is not defined"
     ]
    }
   ],
   "source": [
    "def display(values):\n",
    "    \"\"\"\n",
    "    Display the values as a 2-D grid.\n",
    "    Input: The sudoku in dictionary form\n",
    "    Output: None    \n",
    "    \"\"\"\n",
    "    rows = 'ABCDEFGHI'\n",
    "    cols = '123456789'\n",
    "    boxes = cross(rows, cols)\n",
    "        \n",
    "    width = 1+max(len(values[s]) for s in boxes)\n",
    "    line = '+'.join(['-'*(width*3)]*3)\n",
    "    for r in rows:\n",
    "        print(''.join(values[r+c].center(width)+('|' if c in '36' else '')\n",
    "                      for c in cols))\n",
    "        if r in 'CF': print(line)\n",
    "    return\n",
    "\n",
    "\n",
    "display(convert_grid(start))"
   ]
  },
  {
   "cell_type": "markdown",
   "id": "847f4ad6-5528-4128-85a1-f97ae870ebe8",
   "metadata": {},
   "source": [
    " "
   ]
  },
  {
   "cell_type": "markdown",
   "id": "42efcbc0-6f5c-4c00-8fcb-9bd565f524b8",
   "metadata": {},
   "source": [
    " "
   ]
  },
  {
   "cell_type": "markdown",
   "id": "bff25e35-e7e2-4322-93ad-f719a553db36",
   "metadata": {},
   "source": [
    " "
   ]
  },
  {
   "cell_type": "markdown",
   "id": "1a8cc8d4-406f-4a95-8d9b-176eea06bfad",
   "metadata": {},
   "source": [
    " "
   ]
  },
  {
   "cell_type": "markdown",
   "id": "317d3519-0010-46c6-abf3-8afce5c404c3",
   "metadata": {},
   "source": [
    " "
   ]
  },
  {
   "cell_type": "markdown",
   "id": "b500fdc1-a0a7-4dd4-9d32-4697d5bc3038",
   "metadata": {},
   "source": [
    " "
   ]
  },
  {
   "cell_type": "markdown",
   "id": "2e21e586-0213-42e1-9776-489ba34fe26e",
   "metadata": {},
   "source": [
    " "
   ]
  },
  {
   "cell_type": "markdown",
   "id": "befb31a7-f7d2-483f-b3a8-dede3ea61d97",
   "metadata": {},
   "source": [
    " "
   ]
  },
  {
   "cell_type": "markdown",
   "id": "7cfa7a8f-5dc6-458d-9070-9f82ffa7ffb9",
   "metadata": {},
   "source": [
    " "
   ]
  },
  {
   "cell_type": "markdown",
   "id": "c60a956d-02f2-4a95-9bec-5005e529c8fa",
   "metadata": {},
   "source": [
    " "
   ]
  },
  {
   "cell_type": "markdown",
   "id": "08c1ea58-b26b-4f37-8b36-b02718a818e9",
   "metadata": {},
   "source": [
    " "
   ]
  },
  {
   "cell_type": "markdown",
   "id": "061729ab-fd07-4794-96d5-e90428c225d9",
   "metadata": {},
   "source": [
    " "
   ]
  },
  {
   "cell_type": "markdown",
   "id": "1d0c7f47-8ce7-4da8-b1f7-31bfc49227f6",
   "metadata": {},
   "source": [
    " "
   ]
  },
  {
   "cell_type": "markdown",
   "id": "b1d62c9f-125e-4202-9901-fd78f9ccaefe",
   "metadata": {},
   "source": [
    "# Functions"
   ]
  },
  {
   "cell_type": "markdown",
   "id": "2953d11c-13bb-40cf-af6b-d3bd42ef78df",
   "metadata": {},
   "source": [
    " "
   ]
  },
  {
   "cell_type": "code",
   "execution_count": 7,
   "id": "86664b23-852b-4c48-9e86-1fd3875fd311",
   "metadata": {},
   "outputs": [],
   "source": [
    "def cross(a, b):\n",
    "      return [s+t for s in a for t in b]\n",
    "\n",
    "def get_square_units():\n",
    "    return [cross(rs, cs) for rs in ('ABC','DEF','GHI') for cs in ('123','456','789')]\n",
    "\n",
    "def box_row(entry):\n",
    "    letter = entry[0]    \n",
    "    return [f'{letter}' + str(i) for i in range(1, 10)]\n",
    "\n",
    "def box_col(entry):\n",
    "    letters = 'ABCDEFGHI'\n",
    "    number = entry[1]    \n",
    "    return [f'{letter}' + number for letter in letters]\n",
    "\n",
    "\n",
    "def box_unit(entry):\n",
    "    units = [cross(rs, cs) for rs in ('ABC', 'DEF', 'GHI') for cs in ('123', '456', '789')]\n",
    "    res = []\n",
    "    for unit in units:\n",
    "        if entry in unit:\n",
    "            res = unit\n",
    "    return res\n",
    "    \n",
    "\n",
    "def peers(entry):\n",
    "    peers = set(box_row(entry) + box_col(entry) + box_unit(entry)) - set(entry)\n",
    "    return peers\n",
    "\n",
    "\n",
    "def convert_grid(grid_str):\n",
    "    rows = 'ABCDEFGHI'\n",
    "    cols = '123456789'\n",
    "    entries = cross(rows, cols)\n",
    "\n",
    "    grid = {}\n",
    "    for i, box in enumerate(entries):\n",
    "        grid[box] = grid_str[i]\n",
    "\n",
    "    return grid\n",
    "\n",
    "\n",
    "def possible_values(entry, grid):\n",
    "    all_values = {1, 2, 3, 4, 5, 6, 7, 8, 9}\n",
    "    \n",
    "    values = set()\n",
    "    for p in peers(entry):\n",
    "        value = grid[p]\n",
    "        if value == '.':\n",
    "            continue\n",
    "        values.add(int(value))\n",
    "\n",
    "    possible_values = all_values - values\n",
    "\n",
    "    return \"\".join([str(i) for i in possible_values])\n",
    "\n",
    "\n",
    "def eliminate(grid_str):\n",
    "    grid = convert_grid(grid_str)\n",
    "    all_entries = cross('ABCDEFGHI', '123456789')\n",
    "    grid_elim = {}\n",
    "    for i, entry in enumerate(all_entries):\n",
    "        if grid_str[i] == '.':\n",
    "            grid_elim[entry] = possible_values(entry, grid)\n",
    "        else:\n",
    "            grid_elim[entry] = grid_str[i]\n",
    "        \n",
    "    return dict(grid_elim)\n"
   ]
  },
  {
   "cell_type": "markdown",
   "id": "95bff4e9-75c3-46a7-80b4-2e728827adbd",
   "metadata": {},
   "source": [
    " "
   ]
  },
  {
   "cell_type": "markdown",
   "id": "bef998d1-e785-4174-ae44-dd812ae4c4fb",
   "metadata": {},
   "source": [
    " "
   ]
  },
  {
   "cell_type": "markdown",
   "id": "b0cfab1e-fac0-42dc-8675-7b2b312e16e1",
   "metadata": {},
   "source": [
    " "
   ]
  },
  {
   "cell_type": "markdown",
   "id": "7ef7a6a7-a5fc-4e79-9adf-ecf7987076da",
   "metadata": {},
   "source": [
    " "
   ]
  },
  {
   "cell_type": "code",
   "execution_count": 83,
   "id": "006ceefb-6ad4-409a-a8dc-045dd05bd016",
   "metadata": {},
   "outputs": [],
   "source": [
    "start = '..3.2.6..9..3.5..1..18.64....81.29..7.......8..67.82....26.95..8..2.3..9..5.1.3..'\n",
    "\n",
    "# values = eliminate(start)\n",
    "values = {'B8': '278', 'H1': '8', 'C7': '4', 'B3': '47', 'D3': '8', 'G9': '47', 'G8': '1478', 'B9': '1', 'A3': '3', 'G7': '5', 'G6': '9', 'G5': '478', 'G4': '6', 'G3': '2', 'G2': '1347', 'G1': '134', 'B5': '47', 'I1': '46', 'I3': '5', 'I2': '4679', 'I5': '1', 'I4': '4', 'I7': '3', 'I6': '47', 'A1': '45', 'C9': '2357', 'C8': '23579', 'A5': '2', 'E8': '13456', 'A7': '6', 'A6': '147', 'E5': '34569', 'C2': '257', 'C1': '25', 'E6': '4', 'E1': '7', 'A2': '4578', 'C5': '79', 'A4': '49', 'I9': '2467', 'B2': '24678', 'I8': '24678', 'H2': '1467', 'D9': '34567', 'F2': '13459', 'D5': '3456', 'C3': '1', 'A9': '57', 'C6': '6', 'E4': '459', 'B1': '9', 'E7': '1', 'F1': '1345', 'H8': '1467', 'H9': '9', 'F4': '7', 'F5': '3459', 'F6': '8', 'F7': '2', 'F8': '1345', 'H3': '47', 'F3': '6', 'H6': '3', 'H7': '17', 'H4': '2', 'H5': '457', 'B4': '3', 'A8': '5789', 'B6': '5', 'B7': '78', 'E9': '8', 'E3': '49', 'D8': '34567', 'F9': '345', 'D6': '2', 'D7': '9', 'D4': '1', 'C4': '8', 'D2': '345', 'E2': '123459', 'D1': '345'}\n",
    "\n",
    "def only_choice(values):\n",
    "    counts = dict(zip(['1', '2', '3', '4', '5', '6'], [0, 0, 0, 0, 0, 0]))\n",
    "    return values\n",
    "\n",
    "only_choice(values)\n",
    "\n",
    "\n",
    "counts = dict(zip(['1', '2', '3', '4', '5', '6', '7', '8', '9'], [0, 0, 0, 0, 0, 0, 0, 0, 0]))\n",
    "\n",
    "units = get_square_units()\n",
    "unit = units[1]\n",
    "\n",
    "for box in unit:\n",
    "    possible_values = values[box]\n",
    "    if len(possible_values) == 1:\n",
    "        continue\n",
    "    for v in possible_values:\n",
    "        counts[v] += 1\n",
    "\n",
    "res = {d: c for d, c in counts.items() if c == 1}\n",
    "\n"
   ]
  },
  {
   "cell_type": "markdown",
   "id": "13c1baff-2632-44da-8c2f-abdb382a2ec8",
   "metadata": {},
   "source": [
    " "
   ]
  },
  {
   "cell_type": "markdown",
   "id": "a072949e-e451-452b-b982-f72cb7d36004",
   "metadata": {},
   "source": [
    " "
   ]
  },
  {
   "cell_type": "markdown",
   "id": "596ec75f-8848-4d04-b1bc-e2f57f659728",
   "metadata": {},
   "source": [
    " "
   ]
  },
  {
   "cell_type": "code",
   "execution_count": 98,
   "id": "69a8f079-b78c-4641-bfc6-2157bc3af691",
   "metadata": {},
   "outputs": [
    {
     "name": "stdout",
     "output_type": "stream",
     "text": [
      "  5     8     3   |  9     2     1   |  6     9     57  \n",
      "  9     6     47  |  3     47    5   |  78    2     1   \n",
      "  25   257    1   |  8     79    6   |  4     3    2357 \n",
      "------------------+------------------+------------------\n",
      "  5    345    8   |  1     6     2   |  9     7   34567 \n",
      "  7     2     49  |  9   34569   4   |  1     1     8   \n",
      " 1345 13459   6   |  7    3459   8   |  2    1345  345  \n",
      "------------------+------------------+------------------\n",
      "  4     7     2   |  6     8     9   |  5     8     47  \n",
      "  8     6     47  |  2     5     3   |  17    6     9   \n",
      "  46    9     5   |  4     1     47  |  3     2    2467 \n"
     ]
    }
   ],
   "source": [
    "values = {'B8': '278', 'H1': '8', 'C7': '4', 'B3': '47', 'D3': '8', 'G9': '47', 'G8': '1478', 'B9': '1', 'A3': '3', 'G7': '5', 'G6': '9', 'G5': '478', 'G4': '6', 'G3': '2', 'G2': '1347', 'G1': '134', 'B5': '47', 'I1': '46', 'I3': '5', 'I2': '4679', 'I5': '1', 'I4': '4', 'I7': '3', 'I6': '47', 'A1': '45', 'C9': '2357', 'C8': '23579', 'A5': '2', 'E8': '13456', 'A7': '6', 'A6': '147', 'E5': '34569', 'C2': '257', 'C1': '25', 'E6': '4', 'E1': '7', 'A2': '4578', 'C5': '79', 'A4': '49', 'I9': '2467', 'B2': '24678', 'I8': '24678', 'H2': '1467', 'D9': '34567', 'F2': '13459', 'D5': '3456', 'C3': '1', 'A9': '57', 'C6': '6', 'E4': '459', 'B1': '9', 'E7': '1', 'F1': '1345', 'H8': '1467', 'H9': '9', 'F4': '7', 'F5': '3459', 'F6': '8', 'F7': '2', 'F8': '1345', 'H3': '47', 'F3': '6', 'H6': '3', 'H7': '17', 'H4': '2', 'H5': '457', 'B4': '3', 'A8': '5789', 'B6': '5', 'B7': '78', 'E9': '8', 'E3': '49', 'D8': '34567', 'F9': '345', 'D6': '2', 'D7': '9', 'D4': '1', 'C4': '8', 'D2': '345', 'E2': '123459', 'D1': '345'}\n",
    "\n",
    "\n",
    "\n",
    "def only_choice(values):\n",
    "\n",
    "    units = get_square_units()\n",
    "    \n",
    "    for unit in units:\n",
    "        digits = {'1': [], '2': [], '3': [], '4': [], '5': [], '6': [], '7': [], '8': [], '9': []}\n",
    "        for box in unit:\n",
    "            possible_values = values[box]\n",
    "            if len(possible_values) == 1:\n",
    "                continue\n",
    "            for digit in '123456789':\n",
    "                if digit in possible_values:\n",
    "                    digits[digit].append(box)\n",
    "                if len(digits[digit]) == 1:\n",
    "                    values[digits[digit][0]] = digit\n",
    "    return values\n",
    "\n",
    "\n",
    "display(only_choice(values))"
   ]
  },
  {
   "cell_type": "markdown",
   "id": "a427f647-5d3d-4af8-972d-ee6e05928874",
   "metadata": {},
   "source": [
    " "
   ]
  },
  {
   "cell_type": "markdown",
   "id": "9705341b-695b-441d-a864-042303f1876c",
   "metadata": {},
   "source": [
    " "
   ]
  },
  {
   "cell_type": "markdown",
   "id": "85c4fc46-a1fa-4602-a125-47e0bb6314ce",
   "metadata": {},
   "source": [
    " "
   ]
  },
  {
   "cell_type": "markdown",
   "id": "a1c2da0d-5307-44d3-8a28-f0c022e9833a",
   "metadata": {},
   "source": [
    " "
   ]
  },
  {
   "cell_type": "markdown",
   "id": "6d66ed79-22d0-428e-bffc-2029623da11b",
   "metadata": {},
   "source": [
    " "
   ]
  },
  {
   "cell_type": "code",
   "execution_count": 12,
   "id": "34647af0-f599-4466-9582-d9cb6a05baae",
   "metadata": {},
   "outputs": [
    {
     "name": "stdout",
     "output_type": "stream",
     "text": [
      "  45    8     3   |  49    2     1   |  6    5789   57  \n",
      "  9     6     47  |  3     47    5   |  78   278    1   \n",
      "  25   257    1   |  8     79    6   |  4   23579  2357 \n",
      "------------------+------------------+------------------\n",
      " 345   345    8   |  1    3456   2   |  9   34567 34567 \n",
      "  7     2     49  | 459  34569   4   |  1   13456   8   \n",
      " 1345 13459   6   |  7    3459   8   |  2    1345  345  \n",
      "------------------+------------------+------------------\n",
      " 134   1347   2   |  6     8     9   |  5    1478   47  \n",
      "  8    1467   47  |  2     5     3   |  17   1467   9   \n",
      "  46    9     5   |  4     1     7   |  3   24678  2467 \n"
     ]
    }
   ],
   "source": [
    "\n",
    "\n",
    "values = {'B8': '278', 'H1': '8', 'C7': '4', 'B3': '47', 'D3': '8', 'G9': '47', 'G8': '1478', 'B9': '1', 'A3': '3', 'G7': '5', 'G6': '9', 'G5': '478', 'G4': '6', 'G3': '2', 'G2': '1347', 'G1': '134', 'B5': '47', 'I1': '46', 'I3': '5', 'I2': '4679', 'I5': '1', 'I4': '4', 'I7': '3', 'I6': '47', 'A1': '45', 'C9': '2357', 'C8': '23579', 'A5': '2', 'E8': '13456', 'A7': '6', 'A6': '147', 'E5': '34569', 'C2': '257', 'C1': '25', 'E6': '4', 'E1': '7', 'A2': '4578', 'C5': '79', 'A4': '49', 'I9': '2467', 'B2': '24678', 'I8': '24678', 'H2': '1467', 'D9': '34567', 'F2': '13459', 'D5': '3456', 'C3': '1', 'A9': '57', 'C6': '6', 'E4': '459', 'B1': '9', 'E7': '1', 'F1': '1345', 'H8': '1467', 'H9': '9', 'F4': '7', 'F5': '3459', 'F6': '8', 'F7': '2', 'F8': '1345', 'H3': '47', 'F3': '6', 'H6': '3', 'H7': '17', 'H4': '2', 'H5': '457', 'B4': '3', 'A8': '5789', 'B6': '5', 'B7': '78', 'E9': '8', 'E3': '49', 'D8': '34567', 'F9': '345', 'D6': '2', 'D7': '9', 'D4': '1', 'C4': '8', 'D2': '345', 'E2': '123459', 'D1': '345'}\n",
    "\n",
    "\n",
    "def only_choice(values):\n",
    "    units = get_square_units()\n",
    "    for unit in units:\n",
    "        for digit in '123456789':\n",
    "            boxes = []\n",
    "            for box in unit:\n",
    "                if digit in values[box]:\n",
    "                    boxes.append(box)\n",
    "            if len(boxes) == 1:\n",
    "                values[boxes[0]] = digit\n",
    "\n",
    "\n",
    "\n",
    "\n",
    "values = {'B8': '278', 'H1': '8', 'C7': '4', 'B3': '47', 'D3': '8', 'G9': '47', 'G8': '1478', 'B9': '1', 'A3': '3', 'G7': '5', 'G6': '9', 'G5': '478', 'G4': '6', 'G3': '2', 'G2': '1347', 'G1': '134', 'B5': '47', 'I1': '46', 'I3': '5', 'I2': '4679', 'I5': '1', 'I4': '4', 'I7': '3', 'I6': '47', 'A1': '45', 'C9': '2357', 'C8': '23579', 'A5': '2', 'E8': '13456', 'A7': '6', 'A6': '147', 'E5': '34569', 'C2': '257', 'C1': '25', 'E6': '4', 'E1': '7', 'A2': '4578', 'C5': '79', 'A4': '49', 'I9': '2467', 'B2': '24678', 'I8': '24678', 'H2': '1467', 'D9': '34567', 'F2': '13459', 'D5': '3456', 'C3': '1', 'A9': '57', 'C6': '6', 'E4': '459', 'B1': '9', 'E7': '1', 'F1': '1345', 'H8': '1467', 'H9': '9', 'F4': '7', 'F5': '3459', 'F6': '8', 'F7': '2', 'F8': '1345', 'H3': '47', 'F3': '6', 'H6': '3', 'H7': '17', 'H4': '2', 'H5': '457', 'B4': '3', 'A8': '5789', 'B6': '5', 'B7': '78', 'E9': '8', 'E3': '49', 'D8': '34567', 'F9': '345', 'D6': '2', 'D7': '9', 'D4': '1', 'C4': '8', 'D2': '345', 'E2': '123459', 'D1': '345'}\n",
    "for _ in range(81):\n",
    "    old_values = values.copy()\n",
    "    only_choice(values)\n",
    "    if values == old_values:\n",
    "        break\n",
    "\n",
    "display(values)"
   ]
  },
  {
   "cell_type": "markdown",
   "id": "9ff7cdfc-8113-40ed-8c4b-222e001cc7a6",
   "metadata": {},
   "source": [
    " "
   ]
  },
  {
   "cell_type": "markdown",
   "id": "93e42229-d47f-456e-ad54-41ef16b546b5",
   "metadata": {},
   "source": [
    " "
   ]
  },
  {
   "cell_type": "markdown",
   "id": "81f10431-d497-4989-b84d-f1b3b28be157",
   "metadata": {},
   "source": [
    " "
   ]
  },
  {
   "cell_type": "code",
   "execution_count": 105,
   "id": "d6ee3a7c-215f-4db2-b7d8-72d1192040b8",
   "metadata": {},
   "outputs": [
    {
     "data": {
      "text/plain": [
       "{'1': ['A6'],\n",
       " '2': [],\n",
       " '3': [],\n",
       " '4': ['A4', 'A6', 'B5'],\n",
       " '5': [],\n",
       " '6': [],\n",
       " '7': ['A6', 'B5', 'C5'],\n",
       " '8': [],\n",
       " '9': ['A4', 'C5']}"
      ]
     },
     "execution_count": 105,
     "metadata": {},
     "output_type": "execute_result"
    }
   ],
   "source": [
    "digits"
   ]
  },
  {
   "cell_type": "markdown",
   "id": "1f1ebd26-83f4-4697-b80e-d5eb211cbee0",
   "metadata": {},
   "source": [
    " "
   ]
  },
  {
   "cell_type": "markdown",
   "id": "996adcf4-904b-47c2-a109-da5e17f86b97",
   "metadata": {},
   "source": [
    " "
   ]
  },
  {
   "cell_type": "markdown",
   "id": "9f01669b-241c-496d-82b9-6d3545fe124c",
   "metadata": {},
   "source": [
    " "
   ]
  },
  {
   "cell_type": "markdown",
   "id": "3bd2102f-f6e2-4393-bea4-d49a7d56cd3e",
   "metadata": {},
   "source": [
    " "
   ]
  },
  {
   "cell_type": "markdown",
   "id": "fb6632cf-2d49-4ff5-a2eb-c719c5405b43",
   "metadata": {},
   "source": [
    " "
   ]
  },
  {
   "cell_type": "markdown",
   "id": "3c25aa42-4a67-4cbf-a715-ad95e950e288",
   "metadata": {},
   "source": [
    " "
   ]
  },
  {
   "cell_type": "markdown",
   "id": "1bd5762e-093c-46ed-8f38-6145835e5800",
   "metadata": {},
   "source": [
    " "
   ]
  },
  {
   "cell_type": "markdown",
   "id": "d8a491b7-1287-4670-9d05-ace30216cb49",
   "metadata": {},
   "source": [
    " "
   ]
  },
  {
   "cell_type": "markdown",
   "id": "1aeee9d1-b3b4-4641-bed1-b7dd380d2fbe",
   "metadata": {},
   "source": [
    " "
   ]
  },
  {
   "cell_type": "markdown",
   "id": "bfd4596b-36af-4b10-8bf6-477473b528b5",
   "metadata": {},
   "source": [
    " "
   ]
  },
  {
   "cell_type": "markdown",
   "id": "cefee52e-dbeb-450c-b057-d97905d1c133",
   "metadata": {},
   "source": [
    " "
   ]
  },
  {
   "cell_type": "markdown",
   "id": "c4e43c19-7434-40a4-9452-164a9c7cb8a7",
   "metadata": {},
   "source": [
    " "
   ]
  },
  {
   "cell_type": "markdown",
   "id": "c76d68aa-c930-4c03-9aa4-b97275ea9a0d",
   "metadata": {},
   "source": [
    " "
   ]
  },
  {
   "cell_type": "markdown",
   "id": "5dc9de2e-6450-4ece-a54b-7a86bac17445",
   "metadata": {},
   "source": [
    " "
   ]
  },
  {
   "cell_type": "markdown",
   "id": "49bed562-8ebb-4a5f-a98d-ef26cec8832a",
   "metadata": {},
   "source": [
    " "
   ]
  },
  {
   "cell_type": "markdown",
   "id": "2a3ed62d-84f9-4795-a677-b695557e6e4b",
   "metadata": {},
   "source": [
    " "
   ]
  },
  {
   "cell_type": "markdown",
   "id": "59eb7912-a214-4b61-bfb7-21af043cab02",
   "metadata": {},
   "source": [
    " "
   ]
  },
  {
   "cell_type": "markdown",
   "id": "5a96cdaa-e81a-47c1-8988-eb4e6e4630bf",
   "metadata": {},
   "source": [
    " "
   ]
  },
  {
   "cell_type": "markdown",
   "id": "2088be6b-7482-470c-96aa-d67f91bf94e0",
   "metadata": {},
   "source": [
    " "
   ]
  },
  {
   "cell_type": "markdown",
   "id": "de2fe8bd-0f45-4b75-a884-c6cbe1c24c1b",
   "metadata": {},
   "source": [
    " "
   ]
  },
  {
   "cell_type": "markdown",
   "id": "a05a170b-b3ee-4f38-b966-9a0653aa29b8",
   "metadata": {},
   "source": [
    " "
   ]
  },
  {
   "cell_type": "markdown",
   "id": "e688f276-033d-48e6-a3c7-ca6958855077",
   "metadata": {},
   "source": [
    " "
   ]
  },
  {
   "cell_type": "markdown",
   "id": "31cb0f91-1c1e-4c14-8aaa-a9f11e08f27a",
   "metadata": {},
   "source": [
    " "
   ]
  },
  {
   "cell_type": "markdown",
   "id": "7e61f627-68ee-4479-baf2-1caf9a2e184a",
   "metadata": {},
   "source": [
    " "
   ]
  },
  {
   "cell_type": "markdown",
   "id": "dcb1aef0-bccd-43f0-8e53-b4378586bbc1",
   "metadata": {},
   "source": [
    " "
   ]
  },
  {
   "cell_type": "markdown",
   "id": "e0e0a226-cff5-4fc7-8cbf-0a1b1908e50e",
   "metadata": {},
   "source": [
    " "
   ]
  }
 ],
 "metadata": {
  "kernelspec": {
   "display_name": "Python 3 (ipykernel)",
   "language": "python",
   "name": "python3"
  },
  "language_info": {
   "codemirror_mode": {
    "name": "ipython",
    "version": 3
   },
   "file_extension": ".py",
   "mimetype": "text/x-python",
   "name": "python",
   "nbconvert_exporter": "python",
   "pygments_lexer": "ipython3",
   "version": "3.12.4"
  }
 },
 "nbformat": 4,
 "nbformat_minor": 5
}
